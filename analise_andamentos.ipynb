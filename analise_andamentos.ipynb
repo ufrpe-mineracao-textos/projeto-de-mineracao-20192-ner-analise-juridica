{
  "nbformat": 4,
  "nbformat_minor": 0,
  "metadata": {
    "kernelspec": {
      "name": "python3",
      "display_name": "Python 3"
    },
    "language_info": {
      "codemirror_mode": {
        "name": "ipython",
        "version": 3
      },
      "file_extension": ".py",
      "mimetype": "text/x-python",
      "name": "python",
      "nbconvert_exporter": "python",
      "pygments_lexer": "ipython3",
      "version": "3.7.3"
    },
    "colab": {
      "name": "analise_andamentos.ipynb",
      "provenance": [],
      "collapsed_sections": [],
      "toc_visible": true,
      "include_colab_link": true
    },
    "accelerator": "GPU"
  },
  "cells": [
    {
      "cell_type": "markdown",
      "metadata": {
        "id": "view-in-github",
        "colab_type": "text"
      },
      "source": [
        "<a href=\"https://colab.research.google.com/github/ufrpe-mineracao-textos/projeto-de-mineracao-20192-ner-analise-juridica/blob/master/analise_andamentos.ipynb\" target=\"_parent\"><img src=\"https://colab.research.google.com/assets/colab-badge.svg\" alt=\"Open In Colab\"/></a>"
      ]
    },
    {
      "cell_type": "markdown",
      "metadata": {
        "id": "ydiysJBk4SDY",
        "colab_type": "text"
      },
      "source": [
        "# Imports"
      ]
    },
    {
      "cell_type": "code",
      "metadata": {
        "id": "QM8ifIHR4SDe",
        "colab_type": "code",
        "colab": {}
      },
      "source": [
        "import pandas as pd\n",
        "import os\n",
        "import re\n",
        "import spacy\n",
        "from spacy import displacy\n",
        "\n",
        "\n",
        "import pickle\n",
        "from sklearn.ensemble import AdaBoostClassifier\n",
        "from sklearn.feature_extraction.text import TfidfVectorizer\n",
        "from sklearn.neural_network import MLPClassifier"
      ],
      "execution_count": 0,
      "outputs": []
    },
    {
      "cell_type": "code",
      "metadata": {
        "id": "4Y1plUcp4Y2m",
        "colab_type": "code",
        "outputId": "a357aec3-d024-4941-9715-0efff737461b",
        "colab": {
          "base_uri": "https://localhost:8080/",
          "height": 33
        }
      },
      "source": [
        "os.system(\"python -m spacy download pt\")"
      ],
      "execution_count": 0,
      "outputs": [
        {
          "output_type": "execute_result",
          "data": {
            "text/plain": [
              "0"
            ]
          },
          "metadata": {
            "tags": []
          },
          "execution_count": 2
        }
      ]
    },
    {
      "cell_type": "code",
      "metadata": {
        "id": "nxQ4Qmlf4TuE",
        "colab_type": "code",
        "outputId": "bd7f6fe0-2b45-4996-eb72-3a7fac630c2e",
        "colab": {
          "base_uri": "https://localhost:8080/",
          "height": 118
        }
      },
      "source": [
        "from google.colab import drive\n",
        "drive.mount('/content/drive')"
      ],
      "execution_count": 0,
      "outputs": [
        {
          "output_type": "stream",
          "text": [
            "Go to this URL in a browser: https://accounts.google.com/o/oauth2/auth?client_id=947318989803-6bn6qk8qdgf4n4g3pfee6491hc0brc4i.apps.googleusercontent.com&redirect_uri=urn%3aietf%3awg%3aoauth%3a2.0%3aoob&response_type=code&scope=email%20https%3a%2f%2fwww.googleapis.com%2fauth%2fdocs.test%20https%3a%2f%2fwww.googleapis.com%2fauth%2fdrive%20https%3a%2f%2fwww.googleapis.com%2fauth%2fdrive.photos.readonly%20https%3a%2f%2fwww.googleapis.com%2fauth%2fpeopleapi.readonly\n",
            "\n",
            "Enter your authorization code:\n",
            "··········\n",
            "Mounted at /content/drive\n"
          ],
          "name": "stdout"
        }
      ]
    },
    {
      "cell_type": "code",
      "metadata": {
        "id": "zKBFkxY05Aku",
        "colab_type": "code",
        "outputId": "e2edf17d-6a16-4a22-8023-eb70d897a53e",
        "colab": {
          "base_uri": "https://localhost:8080/",
          "height": 33
        }
      },
      "source": [
        "%cd drive/My\\ Drive/Academico/8\\º\\ Período/Mineração\\ de\\ Texto/Projeto\\ de\\ MT"
      ],
      "execution_count": 0,
      "outputs": [
        {
          "output_type": "stream",
          "text": [
            "/content/drive/My Drive/Academico/8º Período/Mineração de Texto/Projeto de MT\n"
          ],
          "name": "stdout"
        }
      ]
    },
    {
      "cell_type": "code",
      "metadata": {
        "id": "zWS4D8we5T7V",
        "colab_type": "code",
        "outputId": "33827876-6c2f-480f-8986-14bc89f8b62e",
        "colab": {
          "base_uri": "https://localhost:8080/",
          "height": 66
        }
      },
      "source": [
        "!ls"
      ],
      "execution_count": 0,
      "outputs": [
        {
          "output_type": "stream",
          "text": [
            " analise_andamentos.ipynb   Model\t\t sentence_classification.ipynb\n",
            " Database\t\t    ner_juridico.ipynb\n",
            "'Ficha projeto.gsheet'\t   'Related Works'\n"
          ],
          "name": "stdout"
        }
      ]
    },
    {
      "cell_type": "markdown",
      "metadata": {
        "id": "ZkxWXPjc4SDq",
        "colab_type": "text"
      },
      "source": [
        "## Import da base"
      ]
    },
    {
      "cell_type": "code",
      "metadata": {
        "id": "NvL31dmg4SDt",
        "colab_type": "code",
        "colab": {}
      },
      "source": [
        "base_ouvidoria = pd.read_json('Database/processos_ouvidoria.json')\n",
        "base_sequencial = pd.read_json('Database/processos_sequencial.json')"
      ],
      "execution_count": 0,
      "outputs": []
    },
    {
      "cell_type": "code",
      "metadata": {
        "id": "ovBD8VfQ4SD2",
        "colab_type": "code",
        "colab": {}
      },
      "source": [
        "base = pd.concat([base_ouvidoria, base_sequencial],ignore_index=True)"
      ],
      "execution_count": 0,
      "outputs": []
    },
    {
      "cell_type": "code",
      "metadata": {
        "id": "NkhehiKY4SD7",
        "colab_type": "code",
        "outputId": "01d4ece5-3944-4331-fe05-423e28bea66a",
        "colab": {
          "base_uri": "https://localhost:8080/",
          "height": 402
        }
      },
      "source": [
        "base = base.drop_duplicates(subset='numero')\n",
        "\n",
        "base.head()"
      ],
      "execution_count": 0,
      "outputs": [
        {
          "output_type": "execute_result",
          "data": {
            "text/html": [
              "<div>\n",
              "<style scoped>\n",
              "    .dataframe tbody tr th:only-of-type {\n",
              "        vertical-align: middle;\n",
              "    }\n",
              "\n",
              "    .dataframe tbody tr th {\n",
              "        vertical-align: top;\n",
              "    }\n",
              "\n",
              "    .dataframe thead th {\n",
              "        text-align: right;\n",
              "    }\n",
              "</style>\n",
              "<table border=\"1\" class=\"dataframe\">\n",
              "  <thead>\n",
              "    <tr style=\"text-align: right;\">\n",
              "      <th></th>\n",
              "      <th>numero</th>\n",
              "      <th>juizo</th>\n",
              "      <th>classe_CNJ</th>\n",
              "      <th>eletronico</th>\n",
              "      <th>comarca</th>\n",
              "      <th>instancia</th>\n",
              "      <th>estado</th>\n",
              "      <th>andamentos_qtd</th>\n",
              "      <th>assuntos</th>\n",
              "      <th>andamentos</th>\n",
              "    </tr>\n",
              "  </thead>\n",
              "  <tbody>\n",
              "    <tr>\n",
              "      <th>0</th>\n",
              "      <td>1774826420128169984</td>\n",
              "      <td>Segunda Vara de Violência Doméstica e Familiar...</td>\n",
              "      <td>Inquérito Policial</td>\n",
              "      <td>False</td>\n",
              "      <td>Recife</td>\n",
              "      <td>1GRAU</td>\n",
              "      <td>PE</td>\n",
              "      <td>4</td>\n",
              "      <td>[Crimes Previstos no Estatuto do Idoso]</td>\n",
              "      <td>[{'complemento': 'Central de Inquéritos', 'dat...</td>\n",
              "    </tr>\n",
              "    <tr>\n",
              "      <th>1</th>\n",
              "      <td>1736234020128169984</td>\n",
              "      <td>Segunda Vara de Violência Doméstica e Familiar...</td>\n",
              "      <td>Inquérito Policial</td>\n",
              "      <td>False</td>\n",
              "      <td>Recife</td>\n",
              "      <td>1GRAU</td>\n",
              "      <td>PE</td>\n",
              "      <td>22</td>\n",
              "      <td>[Crimes Previstos no Estatuto do Idoso]</td>\n",
              "      <td>[{'complemento': 'Central de Inquéritos', 'dat...</td>\n",
              "    </tr>\n",
              "    <tr>\n",
              "      <th>2</th>\n",
              "      <td>1736087120128169984</td>\n",
              "      <td>Terceira Vara de Violência Doméstica e Familia...</td>\n",
              "      <td>Inquérito Policial</td>\n",
              "      <td>False</td>\n",
              "      <td>Recife</td>\n",
              "      <td>1GRAU</td>\n",
              "      <td>PE</td>\n",
              "      <td>7</td>\n",
              "      <td>[Ameaça]</td>\n",
              "      <td>[{'complemento': 'Terceira Vara de Violência D...</td>\n",
              "    </tr>\n",
              "    <tr>\n",
              "      <th>3</th>\n",
              "      <td>1736051920128169984</td>\n",
              "      <td>Primeira Vara de Violência Doméstica e Familia...</td>\n",
              "      <td>Inquérito Policial</td>\n",
              "      <td>False</td>\n",
              "      <td>Recife</td>\n",
              "      <td>1GRAU</td>\n",
              "      <td>PE</td>\n",
              "      <td>94</td>\n",
              "      <td>[Injúria, Ameaça, Constrangimento ilegal]</td>\n",
              "      <td>[{'complemento': 'Petição', 'data': '07/06/201...</td>\n",
              "    </tr>\n",
              "    <tr>\n",
              "      <th>4</th>\n",
              "      <td>1736034920128169984</td>\n",
              "      <td>Primeira Vara de Violência Doméstica e Familia...</td>\n",
              "      <td>Inquérito Policial</td>\n",
              "      <td>False</td>\n",
              "      <td>Recife</td>\n",
              "      <td>1GRAU</td>\n",
              "      <td>PE</td>\n",
              "      <td>8</td>\n",
              "      <td>[Crimes Previstos no Estatuto do Idoso]</td>\n",
              "      <td>[{'complemento': 'Central de Inquéritos', 'dat...</td>\n",
              "    </tr>\n",
              "  </tbody>\n",
              "</table>\n",
              "</div>"
            ],
            "text/plain": [
              "                numero  ...                                         andamentos\n",
              "0  1774826420128169984  ...  [{'complemento': 'Central de Inquéritos', 'dat...\n",
              "1  1736234020128169984  ...  [{'complemento': 'Central de Inquéritos', 'dat...\n",
              "2  1736087120128169984  ...  [{'complemento': 'Terceira Vara de Violência D...\n",
              "3  1736051920128169984  ...  [{'complemento': 'Petição', 'data': '07/06/201...\n",
              "4  1736034920128169984  ...  [{'complemento': 'Central de Inquéritos', 'dat...\n",
              "\n",
              "[5 rows x 10 columns]"
            ]
          },
          "metadata": {
            "tags": []
          },
          "execution_count": 9
        }
      ]
    },
    {
      "cell_type": "code",
      "metadata": {
        "id": "zYsnldNu4SD_",
        "colab_type": "code",
        "outputId": "8366ae3b-4fec-42ae-bdd5-a5dd513dcba9",
        "colab": {
          "base_uri": "https://localhost:8080/",
          "height": 261
        }
      },
      "source": [
        "base.info()"
      ],
      "execution_count": 0,
      "outputs": [
        {
          "output_type": "stream",
          "text": [
            "<class 'pandas.core.frame.DataFrame'>\n",
            "Int64Index: 13300 entries, 0 to 19217\n",
            "Data columns (total 10 columns):\n",
            "numero            13300 non-null int64\n",
            "juizo             13300 non-null object\n",
            "classe_CNJ        13300 non-null object\n",
            "eletronico        13300 non-null bool\n",
            "comarca           13300 non-null object\n",
            "instancia         13300 non-null object\n",
            "estado            13300 non-null object\n",
            "andamentos_qtd    13300 non-null int64\n",
            "assuntos          13300 non-null object\n",
            "andamentos        13300 non-null object\n",
            "dtypes: bool(1), int64(2), object(7)\n",
            "memory usage: 1.0+ MB\n"
          ],
          "name": "stdout"
        }
      ]
    },
    {
      "cell_type": "markdown",
      "metadata": {
        "id": "Nl2WUIce4SEF",
        "colab_type": "text"
      },
      "source": [
        "## Leitura dos andamentos"
      ]
    },
    {
      "cell_type": "markdown",
      "metadata": {
        "id": "LiWAifGf4SEG",
        "colab_type": "text"
      },
      "source": [
        "### OBS\n",
        "\n",
        "- Não podemos remover a data!! precisamos dela para dizer quanto tempo durou o processo"
      ]
    },
    {
      "cell_type": "code",
      "metadata": {
        "id": "ZHM0lxdH4SEI",
        "colab_type": "code",
        "colab": {}
      },
      "source": [
        "def remove_region(ent, text):\n",
        "    old = text[ent.start_char:ent.end_char]\n",
        "    new = []\n",
        "\n",
        "    for word in list(old):\n",
        "        if word != ' ':\n",
        "            new.append('x')\n",
        "        else:\n",
        "            new.append(' ')\n",
        "\n",
        "    new = ''.join(new)\n",
        "\n",
        "    return text.replace(old, new)\\"
      ],
      "execution_count": 0,
      "outputs": []
    },
    {
      "cell_type": "code",
      "metadata": {
        "id": "C5LMTBs3Zpeb",
        "colab_type": "code",
        "outputId": "d137faac-74cb-4666-ab06-ae4cc1ae55e5",
        "colab": {
          "base_uri": "https://localhost:8080/",
          "height": 131
        }
      },
      "source": [
        "with open('Model/base', 'rb') as fp:\n",
        "    sentences_train, labels_train = pickle.load(fp)\n",
        "\n",
        "tfidf = TfidfVectorizer(smooth_idf=True, norm='l1', max_features=1000)\n",
        "x_train_tfidf = tfidf.fit_transform(sentences_train)\n",
        "\n",
        "# clf = AdaBoostClassifier(n_estimators=100, random_state=0)\n",
        "clf = MLPClassifier(activation='relu', alpha=1e-05,\n",
        "                    batch_size='auto', beta_1=0.9,\n",
        "                    beta_2=0.999, early_stopping=False,\n",
        "                    epsilon=1e-08, hidden_layer_sizes=(5, 2),\n",
        "                    learning_rate='constant',\n",
        "                    learning_rate_init=0.001, max_iter=200,\n",
        "                    momentum=0.9, n_iter_no_change=10,\n",
        "                    nesterovs_momentum=True, power_t=0.5,\n",
        "                    random_state=1, shuffle=True, solver='lbfgs',\n",
        "                    tol=0.0001, validation_fraction=0.1,\n",
        "                    verbose=False, warm_start=False)\n",
        "clf.fit(x_train_tfidf, labels_train)"
      ],
      "execution_count": 0,
      "outputs": [
        {
          "output_type": "execute_result",
          "data": {
            "text/plain": [
              "MLPClassifier(activation='relu', alpha=1e-05, batch_size='auto', beta_1=0.9,\n",
              "              beta_2=0.999, early_stopping=False, epsilon=1e-08,\n",
              "              hidden_layer_sizes=(5, 2), learning_rate='constant',\n",
              "              learning_rate_init=0.001, max_iter=200, momentum=0.9,\n",
              "              n_iter_no_change=10, nesterovs_momentum=True, power_t=0.5,\n",
              "              random_state=1, shuffle=True, solver='lbfgs', tol=0.0001,\n",
              "              validation_fraction=0.1, verbose=False, warm_start=False)"
            ]
          },
          "metadata": {
            "tags": []
          },
          "execution_count": 57
        }
      ]
    },
    {
      "cell_type": "code",
      "metadata": {
        "id": "H-g3C0TzZtBz",
        "colab_type": "code",
        "colab": {}
      },
      "source": [
        "def detect_sentences(progress, nlp):\n",
        "    decrees = []\n",
        "    doc = nlp(progress)\n",
        "    doc_test = [str(sent) for sent in doc.sents]\n",
        "    if len(doc_test) > 0:\n",
        "        doc_tfidf = tfidf.transform(doc_test)\n",
        "        predict = clf.predict(doc_tfidf)\n",
        "        for idx2, label in enumerate(predict):\n",
        "            if label:\n",
        "                decrees.append(doc_test[idx2])\n",
        "    return decrees"
      ],
      "execution_count": 0,
      "outputs": []
    },
    {
      "cell_type": "code",
      "metadata": {
        "id": "nokHXNJZ4SEL",
        "colab_type": "code",
        "outputId": "a2ba1df7-f0c6-402a-d803-a799027299f7",
        "colab": {
          "base_uri": "https://localhost:8080/",
          "height": 33
        }
      },
      "source": [
        "len(base['andamentos'])"
      ],
      "execution_count": 0,
      "outputs": [
        {
          "output_type": "execute_result",
          "data": {
            "text/plain": [
              "13300"
            ]
          },
          "metadata": {
            "tags": []
          },
          "execution_count": 16
        }
      ]
    },
    {
      "cell_type": "code",
      "metadata": {
        "id": "VhxrDn0m4SER",
        "colab_type": "code",
        "outputId": "e4f9e309-c1b7-479a-d3dd-d8104174e990",
        "colab": {
          "base_uri": "https://localhost:8080/",
          "height": 118
        }
      },
      "source": [
        "matchs = ['\\d{1,2}\\/\\d{1,2}\\/\\d{2,4}', '\\d{7}-\\d{2}\\.\\d{4}\\.\\d{1}\\.\\d{2}\\.\\d{4}',\n",
        "          '\\d{1,2}\\.\\d{1,2}\\.\\d{2,4}', '\\d+ de \\w+ de \\d+', '\\d{2,4}:\\d{2,4}:\\d{2,4}']\n",
        "my_model = spacy.load('pt')\n",
        "\n",
        "\n",
        "for i, andamentos in enumerate(base['andamentos']):\n",
        "    print('Indice {}'.format(i), end=' ')\n",
        "    new_andamentos = []\n",
        "    \n",
        "    for andamento in andamentos:\n",
        "        andamento_aux = {}\n",
        "        \n",
        "        for key in andamento.keys():\n",
        "            text = andamento[key]\n",
        "            \n",
        "            if key != 'data' and key != 'decretos':                \n",
        "                document = my_model(text)\n",
        "\n",
        "                for ent in document.ents:\n",
        "                    if ent.label_ == 'PER' and ent.text.isupper():\n",
        "                        text = remove_region(ent, text)\n",
        "                \n",
        "                for regex in matchs:\n",
        "                    text = re.sub(regex, 'xxxxxxxx', text)\n",
        "                \n",
        "                if key == 'texto':\n",
        "                    decretos = detect_sentences(text, my_model)\n",
        "                    andamento_aux['decretos'] = decretos\n",
        "        \n",
        "            andamento_aux[key] = text\n",
        "        \n",
        "        new_andamentos.append(andamento_aux)\n",
        "    \n",
        "    base['andamentos'][i] = new_andamentos\n",
        "    new_andamentos = []\n",
        "    if i == 100: break"
      ],
      "execution_count": 0,
      "outputs": [
        {
          "output_type": "stream",
          "text": [
            "Indice 0 Indice 1 "
          ],
          "name": "stdout"
        },
        {
          "output_type": "stream",
          "text": [
            "/usr/local/lib/python3.6/dist-packages/ipykernel_launcher.py:34: SettingWithCopyWarning: \n",
            "A value is trying to be set on a copy of a slice from a DataFrame\n",
            "\n",
            "See the caveats in the documentation: http://pandas.pydata.org/pandas-docs/stable/user_guide/indexing.html#returning-a-view-versus-a-copy\n"
          ],
          "name": "stderr"
        },
        {
          "output_type": "stream",
          "text": [
            "Indice 2 Indice 3 Indice 4 Indice 5 Indice 6 Indice 7 Indice 8 Indice 9 Indice 10 Indice 11 Indice 12 Indice 13 Indice 14 Indice 15 Indice 16 Indice 17 Indice 18 Indice 19 Indice 20 Indice 21 Indice 22 Indice 23 Indice 24 Indice 25 Indice 26 Indice 27 Indice 28 Indice 29 Indice 30 Indice 31 Indice 32 Indice 33 Indice 34 Indice 35 Indice 36 Indice 37 Indice 38 Indice 39 Indice 40 Indice 41 Indice 42 Indice 43 Indice 44 Indice 45 Indice 46 Indice 47 Indice 48 Indice 49 Indice 50 Indice 51 Indice 52 Indice 53 Indice 54 Indice 55 Indice 56 Indice 57 Indice 58 Indice 59 Indice 60 Indice 61 Indice 62 Indice 63 Indice 64 Indice 65 Indice 66 Indice 67 Indice 68 Indice 69 Indice 70 Indice 71 Indice 72 Indice 73 Indice 74 Indice 75 Indice 76 Indice 77 Indice 78 Indice 79 Indice 80 Indice 81 Indice 82 Indice 83 Indice 84 Indice 85 Indice 86 Indice 87 Indice 88 Indice 89 Indice 90 Indice 91 Indice 92 Indice 93 Indice 94 Indice 95 Indice 96 Indice 97 Indice 98 Indice 99 Indice 100 "
          ],
          "name": "stdout"
        }
      ]
    },
    {
      "cell_type": "code",
      "metadata": {
        "id": "oSPaIbcb4SEZ",
        "colab_type": "code",
        "outputId": "545cb5b9-b223-43bd-8545-0822fef511f5",
        "colab": {
          "base_uri": "https://localhost:8080/",
          "height": 326
        }
      },
      "source": [
        "base.to_json('Database/andamentos_limpos.json')"
      ],
      "execution_count": 0,
      "outputs": [
        {
          "output_type": "error",
          "ename": "FileNotFoundError",
          "evalue": "ignored",
          "traceback": [
            "\u001b[0;31m---------------------------------------------------------------------------\u001b[0m",
            "\u001b[0;31mFileNotFoundError\u001b[0m                         Traceback (most recent call last)",
            "\u001b[0;32m<ipython-input-15-df417c39fb95>\u001b[0m in \u001b[0;36m<module>\u001b[0;34m()\u001b[0m\n\u001b[0;32m----> 1\u001b[0;31m \u001b[0mbase\u001b[0m\u001b[0;34m.\u001b[0m\u001b[0mto_json\u001b[0m\u001b[0;34m(\u001b[0m\u001b[0;34m'Database/andamentos_limpos.json'\u001b[0m\u001b[0;34m)\u001b[0m\u001b[0;34m\u001b[0m\u001b[0;34m\u001b[0m\u001b[0m\n\u001b[0m",
            "\u001b[0;32m/usr/local/lib/python3.6/dist-packages/pandas/core/generic.py\u001b[0m in \u001b[0;36mto_json\u001b[0;34m(self, path_or_buf, orient, date_format, double_precision, force_ascii, date_unit, default_handler, lines, compression, index)\u001b[0m\n\u001b[1;32m   2422\u001b[0m             \u001b[0mlines\u001b[0m\u001b[0;34m=\u001b[0m\u001b[0mlines\u001b[0m\u001b[0;34m,\u001b[0m\u001b[0;34m\u001b[0m\u001b[0;34m\u001b[0m\u001b[0m\n\u001b[1;32m   2423\u001b[0m             \u001b[0mcompression\u001b[0m\u001b[0;34m=\u001b[0m\u001b[0mcompression\u001b[0m\u001b[0;34m,\u001b[0m\u001b[0;34m\u001b[0m\u001b[0;34m\u001b[0m\u001b[0m\n\u001b[0;32m-> 2424\u001b[0;31m             \u001b[0mindex\u001b[0m\u001b[0;34m=\u001b[0m\u001b[0mindex\u001b[0m\u001b[0;34m,\u001b[0m\u001b[0;34m\u001b[0m\u001b[0;34m\u001b[0m\u001b[0m\n\u001b[0m\u001b[1;32m   2425\u001b[0m         )\n\u001b[1;32m   2426\u001b[0m \u001b[0;34m\u001b[0m\u001b[0m\n",
            "\u001b[0;32m/usr/local/lib/python3.6/dist-packages/pandas/io/json/_json.py\u001b[0m in \u001b[0;36mto_json\u001b[0;34m(path_or_buf, obj, orient, date_format, double_precision, force_ascii, date_unit, default_handler, lines, compression, index)\u001b[0m\n\u001b[1;32m     83\u001b[0m \u001b[0;34m\u001b[0m\u001b[0m\n\u001b[1;32m     84\u001b[0m     \u001b[0;32mif\u001b[0m \u001b[0misinstance\u001b[0m\u001b[0;34m(\u001b[0m\u001b[0mpath_or_buf\u001b[0m\u001b[0;34m,\u001b[0m \u001b[0mstr\u001b[0m\u001b[0;34m)\u001b[0m\u001b[0;34m:\u001b[0m\u001b[0;34m\u001b[0m\u001b[0;34m\u001b[0m\u001b[0m\n\u001b[0;32m---> 85\u001b[0;31m         \u001b[0mfh\u001b[0m\u001b[0;34m,\u001b[0m \u001b[0mhandles\u001b[0m \u001b[0;34m=\u001b[0m \u001b[0m_get_handle\u001b[0m\u001b[0;34m(\u001b[0m\u001b[0mpath_or_buf\u001b[0m\u001b[0;34m,\u001b[0m \u001b[0;34m\"w\"\u001b[0m\u001b[0;34m,\u001b[0m \u001b[0mcompression\u001b[0m\u001b[0;34m=\u001b[0m\u001b[0mcompression\u001b[0m\u001b[0;34m)\u001b[0m\u001b[0;34m\u001b[0m\u001b[0;34m\u001b[0m\u001b[0m\n\u001b[0m\u001b[1;32m     86\u001b[0m         \u001b[0;32mtry\u001b[0m\u001b[0;34m:\u001b[0m\u001b[0;34m\u001b[0m\u001b[0;34m\u001b[0m\u001b[0m\n\u001b[1;32m     87\u001b[0m             \u001b[0mfh\u001b[0m\u001b[0;34m.\u001b[0m\u001b[0mwrite\u001b[0m\u001b[0;34m(\u001b[0m\u001b[0ms\u001b[0m\u001b[0;34m)\u001b[0m\u001b[0;34m\u001b[0m\u001b[0;34m\u001b[0m\u001b[0m\n",
            "\u001b[0;32m/usr/local/lib/python3.6/dist-packages/pandas/io/common.py\u001b[0m in \u001b[0;36m_get_handle\u001b[0;34m(path_or_buf, mode, encoding, compression, memory_map, is_text)\u001b[0m\n\u001b[1;32m    400\u001b[0m         \u001b[0;32melif\u001b[0m \u001b[0mis_text\u001b[0m\u001b[0;34m:\u001b[0m\u001b[0;34m\u001b[0m\u001b[0;34m\u001b[0m\u001b[0m\n\u001b[1;32m    401\u001b[0m             \u001b[0;31m# No explicit encoding\u001b[0m\u001b[0;34m\u001b[0m\u001b[0;34m\u001b[0m\u001b[0;34m\u001b[0m\u001b[0m\n\u001b[0;32m--> 402\u001b[0;31m             \u001b[0mf\u001b[0m \u001b[0;34m=\u001b[0m \u001b[0mopen\u001b[0m\u001b[0;34m(\u001b[0m\u001b[0mpath_or_buf\u001b[0m\u001b[0;34m,\u001b[0m \u001b[0mmode\u001b[0m\u001b[0;34m,\u001b[0m \u001b[0merrors\u001b[0m\u001b[0;34m=\u001b[0m\u001b[0;34m\"replace\"\u001b[0m\u001b[0;34m,\u001b[0m \u001b[0mnewline\u001b[0m\u001b[0;34m=\u001b[0m\u001b[0;34m\"\"\u001b[0m\u001b[0;34m)\u001b[0m\u001b[0;34m\u001b[0m\u001b[0;34m\u001b[0m\u001b[0m\n\u001b[0m\u001b[1;32m    403\u001b[0m         \u001b[0;32melse\u001b[0m\u001b[0;34m:\u001b[0m\u001b[0;34m\u001b[0m\u001b[0;34m\u001b[0m\u001b[0m\n\u001b[1;32m    404\u001b[0m             \u001b[0;31m# Binary mode\u001b[0m\u001b[0;34m\u001b[0m\u001b[0;34m\u001b[0m\u001b[0;34m\u001b[0m\u001b[0m\n",
            "\u001b[0;31mFileNotFoundError\u001b[0m: [Errno 2] No such file or directory: 'Database/andamentos_limpos.json'"
          ]
        }
      ]
    },
    {
      "cell_type": "code",
      "metadata": {
        "id": "8cMSvStnKcp2",
        "colab_type": "code",
        "outputId": "0ddc0bb2-46db-41c4-9cb3-49e26daba0af",
        "colab": {
          "base_uri": "https://localhost:8080/",
          "height": 606
        }
      },
      "source": [
        "base['andamentos'][2]"
      ],
      "execution_count": 0,
      "outputs": [
        {
          "output_type": "execute_result",
          "data": {
            "text/plain": [
              "[{'complemento': 'Terceira Vara de Violência Doméstica e Familiar contra a Mulher na Comarca da Capital',\n",
              "  'data': '18/01/2016 12:02:00',\n",
              "  'decretos': [],\n",
              "  'texto': '',\n",
              "  'titulo': 'Redistribuído por Prazo 7 - 1ª D - MAR/JUN/SET/DEZ'},\n",
              " {'complemento': 'Ciente nos autos',\n",
              "  'data': '08/01/2016 14:54:00',\n",
              "  'decretos': [],\n",
              "  'texto': '',\n",
              "  'titulo': 'Recebidos os autos Ciente nos autos'},\n",
              " {'complemento': 'Ministério Público',\n",
              "  'data': '28/10/2015 14:39:00',\n",
              "  'decretos': [],\n",
              "  'texto': '',\n",
              "  'titulo': 'Autos entregues em carga ao Ministério Público'},\n",
              " {'complemento': 'DJe NÂº: 49/2015 Data PublicaÃ§Ã£o: xxxxxxxx',\n",
              "  'data': '19/02/2015 17:35:00',\n",
              "  'decretos': ['Acusado:', 'xxxxx xxxx DE OLIVEIRA\\r\\nVítima:'],\n",
              "  'texto': '2ª Vara de Violência Doméstica e Familiar Contra a Mulher\\r\\n\\r\\nAcusado: xxxxx xxxx DE OLIVEIRA\\r\\nVítima: ALCIONE MARIA MELO DE OLIVEIRA\\r\\nProcesso nº xxxxxxxx\\r\\n\\r\\n     SENTENÇA\\r\\n\\r\\n             Vistos etc...\\r\\n\\r\\n       xxxxx xxxx DE OLIVEIRA, devidamente qualificado nos autos, foi indiciado pela autoridade policial, como incurso nas penas do artigo 147, do Código Penal Brasileiro c/c a Lei nº 11.340/2006, por fato cometido em xxxxxxxx.\\r\\n       \\r\\n       Feito este sucinto relatório, decido.\\r\\n       \\r\\n       Narra a denúncia fatos que caracterizam o delito previsto no artigo 147 do Código Penal, cuja pena máxima, in abstracto, é de 06 (seis) meses, respectivamente, prescrevendo a pretensão punitiva estatal em 03 (três) anos, em relação ao tipo penal, a teor do art. 109, inc. VI, do CPB, fato este ocorrido após o mês de  maio de 2010, que introduziu mudanças no prazo prescricional, relativo a este tipo penal.\\r\\n       \\r\\n       Ante o exposto, com arrimo no art. 61 do CPP, declaro extinta a punibilidade de xxxxx xxxx DE OLIVEIRA, já qualificado nos autos,em virtude da prescrição da pretensão punitiva estatal, o que faço com fulcro no art. 107, inciso IV, 1ª figura, c/c o art. 109, inciso VI, ambos do Código Penal.\\r\\n       \\r\\n       Com o trânsito em julgado, dê-se baixa na Distribuição.\\r\\n\\r\\n\\tP.R.I.\\r\\n      \\r\\n                          Recife, xxxxxxxx.\\r\\n      \\r\\n      \\r\\n     \\r\\n                              Roberta Viana Jardim\\r\\n                                   Juíza de Direito',\n",
              "  'titulo': 'Registro e Publicação de Sentença'},\n",
              " {'complemento': '',\n",
              "  'data': '05/02/2015 18:17:00',\n",
              "  'decretos': ['Acusado:', 'xxxxx xxxx DE OLIVEIRA\\r\\nVítima:'],\n",
              "  'texto': '2ª Vara de Violência Doméstica e Familiar Contra a Mulher\\r\\n\\r\\nAcusado: xxxxx xxxx DE OLIVEIRA\\r\\nVítima: ALCIONE MARIA MELO DE OLIVEIRA\\r\\nProcesso nº xxxxxxxx\\r\\n\\r\\n     SENTENÇA\\r\\n\\r\\n             Vistos etc...\\r\\n\\r\\n       xxxxx xxxx DE OLIVEIRA, devidamente qualificado nos autos, foi indiciado pela autoridade policial, como incurso nas penas do artigo 147, do Código Penal Brasileiro c/c a Lei nº 11.340/2006, por fato cometido em xxxxxxxx.\\r\\n       \\r\\n       Feito este sucinto relatório, decido.\\r\\n       \\r\\n       Narra a denúncia fatos que caracterizam o delito previsto no artigo 147 do Código Penal, cuja pena máxima, in abstracto, é de 06 (seis) meses, respectivamente, prescrevendo a pretensão punitiva estatal em 03 (três) anos, em relação ao tipo penal, a teor do art. 109, inc. VI, do CPB, fato este ocorrido após o mês de  maio de 2010, que introduziu mudanças no prazo prescricional, relativo a este tipo penal.\\r\\n       \\r\\n       Ante o exposto, com arrimo no art. 61 do CPP, declaro extinta a punibilidade de xxxxx xxxx DE OLIVEIRA, já qualificado nos autos,em virtude da prescrição da pretensão punitiva estatal, o que faço com fulcro no art. 107, inciso IV, 1ª figura, c/c o art. 109, inciso VI, ambos do Código Penal.\\r\\n       \\r\\n       Com o trânsito em julgado, dê-se baixa na Distribuição.\\r\\n\\r\\n\\tP.R.I.\\r\\n      \\r\\n                          Recife, xxxxxxxx.\\r\\n      \\r\\n      \\r\\n     \\r\\n                              Roberta Viana Jardim\\r\\n                                   Juíza de Direito',\n",
              "  'titulo': 'Extinção da punibilidade por prescrição, decadência ou perempção'},\n",
              " {'complemento': 'Despacho',\n",
              "  'data': '02/07/2014 15:02:00',\n",
              "  'decretos': [],\n",
              "  'texto': '',\n",
              "  'titulo': 'Conclusos Partes - Polo 1'},\n",
              " {'complemento': 'Segunda Vara de Violência Doméstica e Familiar contra a Mulher na Comarca da Capital',\n",
              "  'data': '27/09/2012 09:23:00',\n",
              "  'decretos': [],\n",
              "  'texto': '',\n",
              "  'titulo': 'Distribuído por Denúncia - Recebimento'}]"
            ]
          },
          "metadata": {
            "tags": []
          },
          "execution_count": 63
        }
      ]
    }
  ]
}