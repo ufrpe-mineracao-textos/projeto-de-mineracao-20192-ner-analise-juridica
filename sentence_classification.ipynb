{
  "nbformat": 4,
  "nbformat_minor": 0,
  "metadata": {
    "colab": {
      "name": "sentence_classification.ipynb",
      "provenance": [],
      "collapsed_sections": [],
      "include_colab_link": true
    },
    "kernelspec": {
      "name": "python3",
      "display_name": "Python 3"
    },
    "accelerator": "GPU"
  },
  "cells": [
    {
      "cell_type": "markdown",
      "metadata": {
        "id": "view-in-github",
        "colab_type": "text"
      },
      "source": [
        "<a href=\"https://colab.research.google.com/github/ufrpe-mineracao-textos/projeto-de-mineracao-20192-ner-analise-juridica/blob/master/sentence_classification.ipynb\" target=\"_parent\"><img src=\"https://colab.research.google.com/assets/colab-badge.svg\" alt=\"Open In Colab\"/></a>"
      ]
    },
    {
      "cell_type": "markdown",
      "metadata": {
        "id": "8D-B9UAGqmgP",
        "colab_type": "text"
      },
      "source": [
        "# Classificação de sentenças utilizando o algoritmo AdaBoost"
      ]
    },
    {
      "cell_type": "code",
      "metadata": {
        "id": "z5hWpeEzaQfu",
        "colab_type": "code",
        "colab": {}
      },
      "source": [
        "import spacy\n",
        "import json\n",
        "import os\n",
        "from sklearn.ensemble import AdaBoostClassifier\n",
        "from sklearn.feature_extraction.text import TfidfVectorizer"
      ],
      "execution_count": 0,
      "outputs": []
    },
    {
      "cell_type": "code",
      "metadata": {
        "id": "ItSO_Rc1nGf_",
        "colab_type": "code",
        "outputId": "cbc63ea2-6731-44e2-a725-63edd42a7f3c",
        "colab": {
          "base_uri": "https://localhost:8080/",
          "height": 34
        }
      },
      "source": [
        "os.system(\"python -m spacy download pt\")"
      ],
      "execution_count": 0,
      "outputs": [
        {
          "output_type": "execute_result",
          "data": {
            "text/plain": [
              "0"
            ]
          },
          "metadata": {
            "tags": []
          },
          "execution_count": 3
        }
      ]
    },
    {
      "cell_type": "code",
      "metadata": {
        "id": "EoPGiq8pmTgt",
        "colab_type": "code",
        "outputId": "27ca3c6f-e26c-4cfb-bbe6-bd40b11ac758",
        "colab": {
          "base_uri": "https://localhost:8080/",
          "height": 124
        }
      },
      "source": [
        "from google.colab import drive\n",
        "drive.mount('/content/drive')"
      ],
      "execution_count": 0,
      "outputs": [
        {
          "output_type": "stream",
          "text": [
            "Go to this URL in a browser: https://accounts.google.com/o/oauth2/auth?client_id=947318989803-6bn6qk8qdgf4n4g3pfee6491hc0brc4i.apps.googleusercontent.com&redirect_uri=urn%3Aietf%3Awg%3Aoauth%3A2.0%3Aoob&scope=email%20https%3A%2F%2Fwww.googleapis.com%2Fauth%2Fdocs.test%20https%3A%2F%2Fwww.googleapis.com%2Fauth%2Fdrive%20https%3A%2F%2Fwww.googleapis.com%2Fauth%2Fdrive.photos.readonly%20https%3A%2F%2Fwww.googleapis.com%2Fauth%2Fpeopleapi.readonly&response_type=code\n",
            "\n",
            "Enter your authorization code:\n",
            "··········\n",
            "Mounted at /content/drive\n"
          ],
          "name": "stdout"
        }
      ]
    },
    {
      "cell_type": "markdown",
      "metadata": {
        "id": "LS_RiDRUw-3z",
        "colab_type": "text"
      },
      "source": [
        "Caminho utilizado por Fernanda:"
      ]
    },
    {
      "cell_type": "code",
      "metadata": {
        "id": "OmletwZUv8K5",
        "colab_type": "code",
        "outputId": "f0a22e0d-9f5e-4e01-d573-feefa12affd8",
        "colab": {
          "base_uri": "https://localhost:8080/",
          "height": 34
        }
      },
      "source": [
        "%cd drive/My\\ Drive/Projeto\\ de\\ MT"
      ],
      "execution_count": 0,
      "outputs": [
        {
          "output_type": "stream",
          "text": [
            "/content/drive/My Drive/Projeto de MT\n"
          ],
          "name": "stdout"
        }
      ]
    },
    {
      "cell_type": "markdown",
      "metadata": {
        "id": "jScGiVMSw8Ll",
        "colab_type": "text"
      },
      "source": [
        "Caminho utilizado por Saulo:"
      ]
    },
    {
      "cell_type": "code",
      "metadata": {
        "id": "IW5gmAGRwy7Z",
        "colab_type": "code",
        "colab": {}
      },
      "source": [
        "%cd drive/My\\ Drive/Academico/8º\\ Período/Mineração\\ de\\ Texto/Projeto\\ de\\ MT"
      ],
      "execution_count": 0,
      "outputs": []
    },
    {
      "cell_type": "code",
      "metadata": {
        "id": "adIdnf-5l8yb",
        "colab_type": "code",
        "colab": {}
      },
      "source": [
        "nlp = spacy.load('pt')\n",
        "\n",
        "with open('Model/mineracao_mulheres.json') as file_data:\n",
        "    data = json.load(file_data)"
      ],
      "execution_count": 0,
      "outputs": []
    },
    {
      "cell_type": "markdown",
      "metadata": {
        "id": "7C03GgRDlRvF",
        "colab_type": "text"
      },
      "source": [
        "## Preparando a base\n",
        "Neste passo, é necessário obter os índices da localização dos decretos rotulados via Dataturks."
      ]
    },
    {
      "cell_type": "code",
      "metadata": {
        "id": "rmpKWpAAn5B3",
        "colab_type": "code",
        "outputId": "b80b3ddf-40d8-42bb-da26-073d1c4deb6e",
        "colab": {
          "base_uri": "https://localhost:8080/",
          "height": 34
        }
      },
      "source": [
        "points = {}\n",
        "contents = []\n",
        "decretos = []\n",
        "\n",
        "for index, item in enumerate(data):\n",
        "    has = False\n",
        "    point = []\n",
        "    contents.append(item['content'])\n",
        "    \n",
        "    for note in item['annotation']:\n",
        "        if note['label'][0] == \"decreto\":\n",
        "            point = [note['points'][0]['start'], note['points'][0]['end']]\n",
        "            decretos.append(note['points'][0]['text'])\n",
        "            if str(index) in contents:\n",
        "                aux = points[str(index)]\n",
        "                aux.append(point)\n",
        "                points[str(index)] = aux\n",
        "            else:\n",
        "                points[str(index)] = [point]\n",
        "\n",
        "print(f\"{len(decretos)} decretos recuperados.\")"
      ],
      "execution_count": 0,
      "outputs": [
        {
          "output_type": "stream",
          "text": [
            "160 decretos recuperados.\n"
          ],
          "name": "stdout"
        }
      ]
    },
    {
      "cell_type": "markdown",
      "metadata": {
        "id": "uZ-m8dV4oB9l",
        "colab_type": "text"
      },
      "source": [
        "## Rotular as sentenças que contém um decreto"
      ]
    },
    {
      "cell_type": "code",
      "metadata": {
        "id": "CO3HG_L_oHTz",
        "colab_type": "code",
        "colab": {}
      },
      "source": [
        "sentences_train = []\n",
        "labels_train = []\n",
        "\n",
        "for index, text in enumerate(contents):\n",
        "    doc = nlp(text)\n",
        "    if str(index) in points:\n",
        "        found = False\n",
        "        \n",
        "        for sentence in doc.sents:\n",
        "            if found: \n",
        "                break\n",
        "            \n",
        "            for token in sentence:\n",
        "                if (token.idx >= points[str(index)][0][0]\n",
        "                      and token.idx <= points[str(index)][0][1]):\n",
        "                    aux = str(sentence)\n",
        "                    aux = aux.replace('  ', '')\n",
        "                    aux = aux.replace('\\n', '')\n",
        "                    aux = aux.replace('\\r', '')\n",
        "                    \n",
        "                    if aux.isalpha:\n",
        "                        sentences_train.append(aux)\n",
        "                        labels_train.append(1)\n",
        "                    \n",
        "                    found = True\n",
        "                    break\n",
        "    else:\n",
        "        for sentence in doc.sents:\n",
        "            aux = str(sentence)\n",
        "            aux = aux.replace('  ', '')\n",
        "            aux = aux.replace('\\n', '')\n",
        "            aux = aux.replace('\\r', '')\n",
        "            \n",
        "            if aux.isalpha:\n",
        "                sentences_train.append(aux)\n",
        "                labels_train.append(0)"
      ],
      "execution_count": 0,
      "outputs": []
    },
    {
      "cell_type": "markdown",
      "metadata": {
        "id": "el2RRMGQoNB4",
        "colab_type": "text"
      },
      "source": [
        "## Treinando a base"
      ]
    },
    {
      "cell_type": "code",
      "metadata": {
        "id": "U6Nam4HvoKPD",
        "colab_type": "code",
        "outputId": "54845a32-eb49-4896-b4ea-e4b2a9af91e3",
        "colab": {
          "base_uri": "https://localhost:8080/",
          "height": 52
        }
      },
      "source": [
        "tfidf = TfidfVectorizer(smooth_idf=True, norm='l1', max_features=1000)\n",
        "x_train_tfidf = tfidf.fit_transform(sentences_train)\n",
        "\n",
        "clf = AdaBoostClassifier(n_estimators=100, random_state=0)\n",
        "clf.fit(x_train_tfidf, labels_train)"
      ],
      "execution_count": 0,
      "outputs": [
        {
          "output_type": "execute_result",
          "data": {
            "text/plain": [
              "AdaBoostClassifier(algorithm='SAMME.R', base_estimator=None, learning_rate=1.0,\n",
              "                   n_estimators=100, random_state=0)"
            ]
          },
          "metadata": {
            "tags": []
          },
          "execution_count": 10
        }
      ]
    },
    {
      "cell_type": "markdown",
      "metadata": {
        "id": "8zw6fH3moUEM",
        "colab_type": "text"
      },
      "source": [
        "## Testando a base"
      ]
    },
    {
      "cell_type": "code",
      "metadata": {
        "id": "IcoHXTTo0N5x",
        "colab_type": "code",
        "colab": {}
      },
      "source": [
        "with open('Database/Dados para teste/andamentos.json') as file_data:\n",
        "    data_test = json.load(file_data)"
      ],
      "execution_count": 0,
      "outputs": []
    },
    {
      "cell_type": "code",
      "metadata": {
        "id": "aEC_fImhoWKr",
        "colab_type": "code",
        "outputId": "72170864-5025-4b61-8626-55c6dd06ab3d",
        "colab": {
          "base_uri": "https://localhost:8080/",
          "height": 1000
        }
      },
      "source": [
        "count = 0\n",
        "sentences_test = []\n",
        "\n",
        "for idx, item in enumerate(data_test):\n",
        "    doc = nlp(item['texto'])\n",
        "    doc_test = [str(sent) for sent in doc.sents if len(str(sent)) > 20]\n",
        "    doc_tfidf = tfidf.transform(doc_test)\n",
        "    predict = clf.predict(doc_tfidf)\n",
        "    for idx2, label in enumerate(predict):\n",
        "        if label:\n",
        "            print(\"#\"*30)\n",
        "            print(f\"Decreto do andamento {idx}\")\n",
        "            print(f\"{doc_test[idx2]}\\n\")\n",
        "            count += 1\n",
        "            break\n",
        "\n",
        "    if count == 50: break"
      ],
      "execution_count": 0,
      "outputs": [
        {
          "output_type": "stream",
          "text": [
            "##############################\n",
            "Decreto do andamento 4\n",
            "Aguarde-se o envio da peça informativa e a manifestação do Ministério Público, através de sua Central de Inquéritos, nos prazos previstos nos arts.\n",
            "\n",
            "##############################\n",
            "Decreto do andamento 5\n",
            "A meu ver, há de se frisar que a prisão preventiva não se afigura como prisão pena, mas sim como prisão processual.\n",
            "\n",
            "##############################\n",
            "Decreto do andamento 6\n",
            "A meu ver, há de se frisar que a prisão preventiva não se afigura como prisão pena, mas sim como prisão processual.\n",
            "\n",
            "##############################\n",
            "Decreto do andamento 7\n",
            "Desta forma, DESIGNO audiência de instrução e julgamento para o dia 06 de maio de 2019, às 14h , devendo a Secretaria providenciar as intimações e requisições necessárias.\n",
            "\t\n",
            "\n",
            "##############################\n",
            "Decreto do andamento 9\n",
            "Aguarde-se o envio da peça informativa e a manifestação do Ministério Público, através de sua Central de Inquéritos, nos prazos previstos nos arts.\n",
            "\n",
            "##############################\n",
            "Decreto do andamento 10\n",
            "A meu ver, há de se frisar que a prisão preventiva não se afigura como prisão pena, mas sim como prisão processual.\n",
            "\n",
            "##############################\n",
            "Decreto do andamento 11\n",
            "A meu ver, há de se frisar que a prisão preventiva não se afigura como prisão pena, mas sim como prisão processual.\n",
            "\n",
            "##############################\n",
            "Decreto do andamento 12\n",
            "2ª VVDFM\n",
            "\n",
            "\n",
            "\n",
            "\n",
            "PODER\n",
            "\n",
            "##############################\n",
            "Decreto do andamento 14\n",
            "16, admite \"renúncia à representação\" perante o juiz, em audiência especial, designada para tal finalidade, sendo certo que, o mais das vezes, as vítimas não têm conhecimento do momento oportuno para se retratarem, determino inicialmente a intimação da vítima, preferencialmente através de contato telefônico, para no prazo de 05 (cinco) dias, comparecer a Secretaria desta Vara e informar se tem interesse ou não na continuidade do processo.\n",
            "        \n",
            "\n",
            "##############################\n",
            "Decreto do andamento 16\n",
            "Proferido despacho de mero expediente DESPACHO\n",
            "           \n",
            "           Considerando que o autuado se encontra em liberdade, aguarde-se o envio da peça informativa e a manifestação do Ministério Público, através de sua Central de Inquéritos, nos prazos previstos nos arts.\n",
            "\n",
            "##############################\n",
            "Decreto do andamento 17\n",
            "A meu ver, há de se frisar que a prisão preventiva não se afigura como prisão pena, mas sim como prisão processual.\n",
            "\n",
            "##############################\n",
            "Decreto do andamento 18\n",
            "A meu ver, há de se frisar que a prisão preventiva não se afigura como prisão pena, mas sim como prisão processual.\n",
            "\n",
            "##############################\n",
            "Decreto do andamento 22\n",
            "Cabe-me, agora, analisar acerca da possibilidade de concessão de liberdade provisória, com ou sem fiança, ou da sua conversão em prisão preventiva, nos termos dos incisos II e III, do artigo 310 do Código de Processo Penal, e, ainda, se estão presentes os requisitos do parágrafo único do supramencionado artigo.\n",
            "\n",
            "##############################\n",
            "Decreto do andamento 23\n",
            "Cabe-me, agora, analisar acerca da possibilidade de concessão de liberdade provisória, com ou sem fiança, ou da sua conversão em prisão preventiva, nos termos dos incisos II e III, do artigo 310 do Código de Processo Penal, e, ainda, se estão presentes os requisitos do parágrafo único do supramencionado artigo.\n",
            "\n",
            "##############################\n",
            "Decreto do andamento 25\n",
            "Aguarde-se o envio da peça informativa e a manifestação do Ministério Público, através de sua Central de Inquéritos, nos prazos previstos nos arts.\n",
            "\n",
            "##############################\n",
            "Decreto do andamento 26\n",
            "Cabe-me, agora, analisar acerca da possibilidade de concessão de liberdade provisória, com ou sem fiança, ou da sua conversão em prisão preventiva, nos termos dos incisos II e III, do artigo 310 do Código de Processo Penal, e, ainda, se estão presentes os requisitos do parágrafo único do supramencionado artigo.\n",
            "\n",
            "##############################\n",
            "Decreto do andamento 27\n",
            "Cabe-me, agora, analisar acerca da possibilidade de concessão de liberdade provisória, com ou sem fiança, ou da sua conversão em prisão preventiva, nos termos dos incisos II e III, do artigo 310 do Código de Processo Penal, e, ainda, se estão presentes os requisitos do parágrafo único do supramencionado artigo.\n",
            "\n",
            "##############################\n",
            "Decreto do andamento 31\n",
            "Desta forma, DESIGNO audiência de instrução e julgamento para o dia 25 de julho de 2019, às 14 h, devendo a Secretaria providenciar as intimações e requisições necessárias.\n",
            "\t\n",
            "\n",
            "##############################\n",
            "Decreto do andamento 36\n",
            "2ª VVDFM\n",
            "                                                                      \n",
            "           \n",
            "\n",
            "\n",
            "\n",
            "\n",
            "\n",
            "##############################\n",
            "Decreto do andamento 41\n",
            "Desta forma, DESIGNO audiência de instrução e julgamento para o dia 17 de julho de 2019, às 13h, devendo a Secretaria providenciar as intimações e requisições necessárias.\n",
            "\t\n",
            "\n",
            "##############################\n",
            "Decreto do andamento 50\n",
            "Consoante o depoimento da vítima, que indica a ocorrência de agressões recíprocas, aliado ao fato da vítima ter iniciado as agressões, não há que se falar em condenação do apelado.\n",
            "\n",
            "##############################\n",
            "Decreto do andamento 51\n",
            "Consoante o depoimento da vítima, que indica a ocorrência de agressões recíprocas, aliado ao fato da vítima ter iniciado as agressões, não há que se falar em condenação do apelado.\n",
            "\n",
            "##############################\n",
            "Decreto do andamento 55\n",
            "Apresentada resposta à acusação e não sendo caso de absolvição sumária, designo audiência de instrução e julgamento para o dia 04/06/2019, às 16h, devendo a Secretaria proceder com as intimações e/ou requisições necessárias. \n",
            "        \n",
            "\n",
            "##############################\n",
            "Decreto do andamento 57\n",
            "Desta forma, DESIGNO audiência de instrução e julgamento para o dia 01/08/2019, às 14h, devendo a Secretaria providenciar as intimações e requisições necessárias.\n",
            "\t\n",
            "\n",
            "##############################\n",
            "Decreto do andamento 59\n",
            "Decorrido o prazo estipulado para a monitoração eletrônica, sem notícia de descumprimentos, determino a retirada da tornozeleira eletrônica do acusado, mantendo, entretanto, as demais medidas cautelares impostas à fl.\n",
            "\n",
            "##############################\n",
            "Decreto do andamento 60\n",
            "Do mesmo modo, determino a inclusão do réu no Projeto Novo Horizonte, devendo o mesmo ser encaminhamento ao grupo reflexivo de gênero da Equipe Multidisciplinar desta Vara, cientificando-o que em caso de descumprimento desta e das demais medidas, impostas acarretará a imediata decretação da prisão preventiva do acusado, como a ultima ratio a ser adotada no resguardo da integridade física da vítima. \n",
            "           \n",
            "\n",
            "##############################\n",
            "Decreto do andamento 61\n",
            "Proferido despacho de mero expediente DESPACHO\n",
            "           \n",
            "           Considerando que o(a) autuado(a) se encontra em liberdade, aguarde-se o envio da peça informativa e a manifestação do Ministério Público, através de sua Central de Inquéritos, nos prazos previstos nos arts.\n",
            "\n",
            "##############################\n",
            "Decreto do andamento 62\n",
            "Considerando o petitório do Ministério Público pela concessão da liberdade provisória com aplicação de cautelares e medidas protetivas e da Defensoria Pública requerendo a liberdade provisória, DECIDO:  \n",
            "\n",
            "##############################\n",
            "Decreto do andamento 70\n",
            "Proferido despacho de mero expediente DESPACHO\n",
            "           \n",
            "           Considerando que o(a) autuado(a) se encontra em liberdade, aguarde-se o envio da peça informativa e a manifestação do Ministério Público, através de sua Central de Inquéritos, nos prazos previstos nos arts.\n",
            "\n",
            "##############################\n",
            "Decreto do andamento 71\n",
            "Dada a palavra ao representante do Ministério Público, pleiteou a concessão da LIBERDADE PROVISÓRIA do flagranteado com aplicação de cautelares diversas da prisão previstas nos incisos\n",
            "\n",
            "##############################\n",
            "Decreto do andamento 72\n",
            "Dada a palavra ao representante do Ministério Público, pleiteou a concessão da LIBERDADE PROVISÓRIA do flagranteado com aplicação de cautelares diversas da prisão previstas nos incisos\n",
            "\n",
            "##############################\n",
            "Decreto do andamento 73\n",
            "Revogação de Prisão 3ª\n",
            "\n",
            "##############################\n",
            "Decreto do andamento 74\n",
            "A toda evidência, percebe-se da leitura destes autos que transcorreu o prazo decadencial dentro do qual a querelante poderia ter providenciado a correção do instrumento de mandato, sendo assim neste momento não mais cabível  porque ultrapassado, \"in albis\", o prazo decadencial de 06 (seis) meses.               \n",
            "           \n",
            "\n",
            "##############################\n",
            "Decreto do andamento 78\n",
            "Assim, diante do exposto, com arrimo nos arts.\n",
            "\n",
            "##############################\n",
            "Decreto do andamento 81\n",
            "16, admite \"renúncia à representação\" perante o juiz, em audiência especial, designada para tal finalidade, sendo certo que, o mais das vezes, as vítimas não têm conhecimento do momento oportuno para se retratarem, determino inicialmente a intimação da vítima, preferencialmente através de contato telefônico, para no prazo de 05 (cinco) dias, comparecer a Secretaria desta Vara e informar se tem interesse ou não na continuidade do processo.\n",
            "        \n",
            "\n",
            "##############################\n",
            "Decreto do andamento 82\n",
            "Resposta à acusação juntada aos autos, não sendo caso de absolvição sumária, designo audiência de instrução e julgamento para 14/08/2019 às 14h, devendo a Secretaria providenciar as requisições e/ou intimações necessárias.\n",
            "            \n",
            "\n",
            "##############################\n",
            "Decreto do andamento 84\n",
            "Apresentada resposta à acusação e não sendo caso de absolvição sumária, designo audiência de instrução e julgamento para o dia 08/07/2019, às 16h, devendo a Secretaria proceder com as intimações e/ou requisições necessárias. \n",
            "        \n",
            "\n",
            "##############################\n",
            "Decreto do andamento 87\n",
            "0004915-17.2018.8.17.0001\n",
            "\n",
            "\n",
            "\t\n",
            "\n",
            "##############################\n",
            "Decreto do andamento 88\n",
            "0004915-17.2018.8.17.0001\n",
            "\n",
            "\n",
            "      \n",
            "\n",
            "##############################\n",
            "Decreto do andamento 89\n",
            "Aguarde-se o envio da peça informativa e a manifestação do Ministério Público, através de sua Central de Inquéritos, nos prazos previstos nos arts.\n",
            "\n",
            "##############################\n",
            "Decreto do andamento 91\n",
            "Aguarde-se o envio da peça informativa e a manifestação do Ministério Público, através de sua Central de Inquéritos, nos prazos previstos nos arts.\n",
            "\n",
            "##############################\n",
            "Decreto do andamento 92\n",
            "A meu ver, há de se frisar que a prisão preventiva não se afigura como prisão pena, mas sim como prisão processual.\n",
            "\n",
            "##############################\n",
            "Decreto do andamento 93\n",
            "A meu ver, há de se frisar que a prisão preventiva não se afigura como prisão pena, mas sim como prisão processual.\n",
            "\n",
            "##############################\n",
            "Decreto do andamento 98\n",
            "2ª VVDFM\n",
            "                                                                      \n",
            "           \n",
            "\n",
            "\n",
            "\n",
            "\n",
            "\n",
            "##############################\n",
            "Decreto do andamento 100\n",
            "2ª VVDFM\n",
            "                                                                      \n",
            "           \n",
            "\n",
            "\n",
            "\n",
            "\n",
            "\n",
            "##############################\n",
            "Decreto do andamento 110\n",
            "Compulsando os autos, verifico que o acusado foi preso em flagrante delito no último dia 18 de março de 2018 pela suposta prática do delito acima tipificado, se encontrando preso em razão da conversão da prisão em preventiva, conforme decisão de fls.\n",
            "\n",
            "##############################\n",
            "Decreto do andamento 115\n",
            "Aguarde-se o envio da peça informativa e a manifestação do Ministério Público, através de sua Central de Inquéritos, nos prazos previstos nos arts.\n",
            "\n",
            "##############################\n",
            "Decreto do andamento 133\n",
            "Cabe-me, agora, analisar acerca da possibilidade de concessão de liberdade provisória, com ou sem fiança, ou da sua conversão em prisão preventiva, nos termos dos incisos II e III, do artigo 310 do Código de Processo Penal, e, ainda, se estão presentes os requisitos do parágrafo único do supramencionado artigo.\n",
            "\n",
            "##############################\n",
            "Decreto do andamento 134\n",
            "Cabe-me, agora, analisar acerca da possibilidade de concessão de liberdade provisória, com ou sem fiança, ou da sua conversão em prisão preventiva, nos termos dos incisos II e III, do artigo 310 do Código de Processo Penal, e, ainda, se estão presentes os requisitos do parágrafo único do supramencionado artigo.\n",
            "\n",
            "##############################\n",
            "Decreto do andamento 137\n",
            "Apresentada resposta à acusação e não sendo caso de absolvição sumária, designo audiência de instrução e julgamento para o dia 03/07/2019, às 14h, devendo a Secretaria proceder com as intimações e/ou requisições necessárias. \n",
            "        \n",
            "\n"
          ],
          "name": "stdout"
        }
      ]
    }
  ]
}